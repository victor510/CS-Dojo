{
 "cells": [
  {
   "cell_type": "code",
   "execution_count": 1,
   "metadata": {},
   "outputs": [
    {
     "name": "stdout",
     "output_type": "stream",
     "text": [
      "setup complete\n"
     ]
    }
   ],
   "source": [
    "import seaborn as sns\n",
    "import pandas as pd\n",
    "import matplotlib.pyplot as plt\n",
    "%matplotlib inline\n",
    "import numpy\n",
    "print('setup complete')"
   ]
  },
  {
   "cell_type": "code",
   "execution_count": 2,
   "metadata": {},
   "outputs": [],
   "source": [
    "file_path = 'history_day.csv'"
   ]
  },
  {
   "cell_type": "code",
   "execution_count": 3,
   "metadata": {},
   "outputs": [
    {
     "data": {
      "text/html": [
       "<div>\n",
       "<style scoped>\n",
       "    .dataframe tbody tr th:only-of-type {\n",
       "        vertical-align: middle;\n",
       "    }\n",
       "\n",
       "    .dataframe tbody tr th {\n",
       "        vertical-align: top;\n",
       "    }\n",
       "\n",
       "    .dataframe thead th {\n",
       "        text-align: right;\n",
       "    }\n",
       "</style>\n",
       "<table border=\"1\" class=\"dataframe\">\n",
       "  <thead>\n",
       "    <tr style=\"text-align: right;\">\n",
       "      <th></th>\n",
       "      <th>order</th>\n",
       "      <th>id</th>\n",
       "      <th>date</th>\n",
       "      <th>time</th>\n",
       "      <th>title</th>\n",
       "      <th>url</th>\n",
       "      <th>visitCount</th>\n",
       "      <th>typedCount</th>\n",
       "      <th>transition</th>\n",
       "    </tr>\n",
       "  </thead>\n",
       "  <tbody>\n",
       "    <tr>\n",
       "      <th>0</th>\n",
       "      <td>0</td>\n",
       "      <td>732</td>\n",
       "      <td>11/1/2020</td>\n",
       "      <td>21:42:18</td>\n",
       "      <td>Pandas basic | Kaggle</td>\n",
       "      <td>https://www.kaggle.com/fingofing/pandas-basic</td>\n",
       "      <td>3</td>\n",
       "      <td>0</td>\n",
       "      <td>link</td>\n",
       "    </tr>\n",
       "    <tr>\n",
       "      <th>1</th>\n",
       "      <td>1</td>\n",
       "      <td>752</td>\n",
       "      <td>11/1/2020</td>\n",
       "      <td>21:42:18</td>\n",
       "      <td>Line Charts | Kaggle</td>\n",
       "      <td>https://www.kaggle.com/fingofing/line-charts/edit</td>\n",
       "      <td>2</td>\n",
       "      <td>0</td>\n",
       "      <td>link</td>\n",
       "    </tr>\n",
       "    <tr>\n",
       "      <th>2</th>\n",
       "      <td>2</td>\n",
       "      <td>1014</td>\n",
       "      <td>11/1/2020</td>\n",
       "      <td>21:39:17</td>\n",
       "      <td>Is there a way to track the amount of time I s...</td>\n",
       "      <td>https://www.quora.com/Is-there-a-way-to-track-...</td>\n",
       "      <td>1</td>\n",
       "      <td>0</td>\n",
       "      <td>link</td>\n",
       "    </tr>\n",
       "    <tr>\n",
       "      <th>3</th>\n",
       "      <td>3</td>\n",
       "      <td>1013</td>\n",
       "      <td>11/1/2020</td>\n",
       "      <td>21:39:14</td>\n",
       "      <td>how do i get the amount of time i spent on eac...</td>\n",
       "      <td>https://www.google.com/search?rlz=1C1CHBD_enKE...</td>\n",
       "      <td>2</td>\n",
       "      <td>0</td>\n",
       "      <td>link</td>\n",
       "    </tr>\n",
       "    <tr>\n",
       "      <th>4</th>\n",
       "      <td>4</td>\n",
       "      <td>1013</td>\n",
       "      <td>11/1/2020</td>\n",
       "      <td>21:39:14</td>\n",
       "      <td>how do i get the amount of time i spent on eac...</td>\n",
       "      <td>https://www.google.com/search?rlz=1C1CHBD_enKE...</td>\n",
       "      <td>2</td>\n",
       "      <td>0</td>\n",
       "      <td>form_submit</td>\n",
       "    </tr>\n",
       "    <tr>\n",
       "      <th>...</th>\n",
       "      <td>...</td>\n",
       "      <td>...</td>\n",
       "      <td>...</td>\n",
       "      <td>...</td>\n",
       "      <td>...</td>\n",
       "      <td>...</td>\n",
       "      <td>...</td>\n",
       "      <td>...</td>\n",
       "      <td>...</td>\n",
       "    </tr>\n",
       "    <tr>\n",
       "      <th>505</th>\n",
       "      <td>505</td>\n",
       "      <td>621</td>\n",
       "      <td>10/31/2020</td>\n",
       "      <td>21:57:30</td>\n",
       "      <td>sonic pi - Google Search</td>\n",
       "      <td>https://www.google.com/search?rlz=1C1CHBD_enKE...</td>\n",
       "      <td>2</td>\n",
       "      <td>0</td>\n",
       "      <td>form_submit</td>\n",
       "    </tr>\n",
       "    <tr>\n",
       "      <th>506</th>\n",
       "      <td>506</td>\n",
       "      <td>620</td>\n",
       "      <td>10/31/2020</td>\n",
       "      <td>21:54:22</td>\n",
       "      <td>buffer - Google Search</td>\n",
       "      <td>https://www.google.com/search?q=buffer&amp;rlz=1C1...</td>\n",
       "      <td>1</td>\n",
       "      <td>0</td>\n",
       "      <td>generated</td>\n",
       "    </tr>\n",
       "    <tr>\n",
       "      <th>507</th>\n",
       "      <td>507</td>\n",
       "      <td>619</td>\n",
       "      <td>10/31/2020</td>\n",
       "      <td>21:48:42</td>\n",
       "      <td>How to Fix VM VirtualBox Error- VT x is disabl...</td>\n",
       "      <td>https://www.youtube.com/watch?v=18fU8FHgG80</td>\n",
       "      <td>1</td>\n",
       "      <td>0</td>\n",
       "      <td>link</td>\n",
       "    </tr>\n",
       "    <tr>\n",
       "      <th>508</th>\n",
       "      <td>508</td>\n",
       "      <td>617</td>\n",
       "      <td>10/31/2020</td>\n",
       "      <td>21:48:36</td>\n",
       "      <td>Failed to open a session for the virtual machi...</td>\n",
       "      <td>https://www.google.com/search?q=Failed+to+open...</td>\n",
       "      <td>2</td>\n",
       "      <td>0</td>\n",
       "      <td>generated</td>\n",
       "    </tr>\n",
       "    <tr>\n",
       "      <th>509</th>\n",
       "      <td>509</td>\n",
       "      <td>618</td>\n",
       "      <td>10/31/2020</td>\n",
       "      <td>21:43:28</td>\n",
       "      <td>(87) VirtualBox Error Failed to Open a Session...</td>\n",
       "      <td>https://www.youtube.com/watch?v=gE_dlYMZoyk</td>\n",
       "      <td>1</td>\n",
       "      <td>0</td>\n",
       "      <td>link</td>\n",
       "    </tr>\n",
       "  </tbody>\n",
       "</table>\n",
       "<p>510 rows × 9 columns</p>\n",
       "</div>"
      ],
      "text/plain": [
       "     order    id        date      time  \\\n",
       "0        0   732   11/1/2020  21:42:18   \n",
       "1        1   752   11/1/2020  21:42:18   \n",
       "2        2  1014   11/1/2020  21:39:17   \n",
       "3        3  1013   11/1/2020  21:39:14   \n",
       "4        4  1013   11/1/2020  21:39:14   \n",
       "..     ...   ...         ...       ...   \n",
       "505    505   621  10/31/2020  21:57:30   \n",
       "506    506   620  10/31/2020  21:54:22   \n",
       "507    507   619  10/31/2020  21:48:42   \n",
       "508    508   617  10/31/2020  21:48:36   \n",
       "509    509   618  10/31/2020  21:43:28   \n",
       "\n",
       "                                                 title  \\\n",
       "0                                Pandas basic | Kaggle   \n",
       "1                                 Line Charts | Kaggle   \n",
       "2    Is there a way to track the amount of time I s...   \n",
       "3    how do i get the amount of time i spent on eac...   \n",
       "4    how do i get the amount of time i spent on eac...   \n",
       "..                                                 ...   \n",
       "505                           sonic pi - Google Search   \n",
       "506                             buffer - Google Search   \n",
       "507  How to Fix VM VirtualBox Error- VT x is disabl...   \n",
       "508  Failed to open a session for the virtual machi...   \n",
       "509  (87) VirtualBox Error Failed to Open a Session...   \n",
       "\n",
       "                                                   url  visitCount  \\\n",
       "0        https://www.kaggle.com/fingofing/pandas-basic           3   \n",
       "1    https://www.kaggle.com/fingofing/line-charts/edit           2   \n",
       "2    https://www.quora.com/Is-there-a-way-to-track-...           1   \n",
       "3    https://www.google.com/search?rlz=1C1CHBD_enKE...           2   \n",
       "4    https://www.google.com/search?rlz=1C1CHBD_enKE...           2   \n",
       "..                                                 ...         ...   \n",
       "505  https://www.google.com/search?rlz=1C1CHBD_enKE...           2   \n",
       "506  https://www.google.com/search?q=buffer&rlz=1C1...           1   \n",
       "507        https://www.youtube.com/watch?v=18fU8FHgG80           1   \n",
       "508  https://www.google.com/search?q=Failed+to+open...           2   \n",
       "509        https://www.youtube.com/watch?v=gE_dlYMZoyk           1   \n",
       "\n",
       "     typedCount   transition  \n",
       "0             0         link  \n",
       "1             0         link  \n",
       "2             0         link  \n",
       "3             0         link  \n",
       "4             0  form_submit  \n",
       "..          ...          ...  \n",
       "505           0  form_submit  \n",
       "506           0    generated  \n",
       "507           0         link  \n",
       "508           0    generated  \n",
       "509           0         link  \n",
       "\n",
       "[510 rows x 9 columns]"
      ]
     },
     "execution_count": 3,
     "metadata": {},
     "output_type": "execute_result"
    }
   ],
   "source": [
    "web_data = pd.read_csv(file_path)\n",
    "web_data"
   ]
  },
  {
   "cell_type": "code",
   "execution_count": 10,
   "metadata": {},
   "outputs": [],
   "source": [
    "for value in web_data.time:\n",
    "    web_data.time = web_data['time'].str.replace(':', '')"
   ]
  },
  {
   "cell_type": "code",
   "execution_count": 11,
   "metadata": {},
   "outputs": [
    {
     "data": {
      "text/html": [
       "<div>\n",
       "<style scoped>\n",
       "    .dataframe tbody tr th:only-of-type {\n",
       "        vertical-align: middle;\n",
       "    }\n",
       "\n",
       "    .dataframe tbody tr th {\n",
       "        vertical-align: top;\n",
       "    }\n",
       "\n",
       "    .dataframe thead th {\n",
       "        text-align: right;\n",
       "    }\n",
       "</style>\n",
       "<table border=\"1\" class=\"dataframe\">\n",
       "  <thead>\n",
       "    <tr style=\"text-align: right;\">\n",
       "      <th></th>\n",
       "      <th>order</th>\n",
       "      <th>id</th>\n",
       "      <th>date</th>\n",
       "      <th>time</th>\n",
       "      <th>title</th>\n",
       "      <th>url</th>\n",
       "      <th>visitCount</th>\n",
       "      <th>typedCount</th>\n",
       "      <th>transition</th>\n",
       "    </tr>\n",
       "  </thead>\n",
       "  <tbody>\n",
       "    <tr>\n",
       "      <th>0</th>\n",
       "      <td>0</td>\n",
       "      <td>732</td>\n",
       "      <td>11/1/2020</td>\n",
       "      <td>214218</td>\n",
       "      <td>Pandas basic | Kaggle</td>\n",
       "      <td>https://www.kaggle.com/fingofing/pandas-basic</td>\n",
       "      <td>3</td>\n",
       "      <td>0</td>\n",
       "      <td>link</td>\n",
       "    </tr>\n",
       "    <tr>\n",
       "      <th>1</th>\n",
       "      <td>1</td>\n",
       "      <td>752</td>\n",
       "      <td>11/1/2020</td>\n",
       "      <td>214218</td>\n",
       "      <td>Line Charts | Kaggle</td>\n",
       "      <td>https://www.kaggle.com/fingofing/line-charts/edit</td>\n",
       "      <td>2</td>\n",
       "      <td>0</td>\n",
       "      <td>link</td>\n",
       "    </tr>\n",
       "    <tr>\n",
       "      <th>2</th>\n",
       "      <td>2</td>\n",
       "      <td>1014</td>\n",
       "      <td>11/1/2020</td>\n",
       "      <td>213917</td>\n",
       "      <td>Is there a way to track the amount of time I s...</td>\n",
       "      <td>https://www.quora.com/Is-there-a-way-to-track-...</td>\n",
       "      <td>1</td>\n",
       "      <td>0</td>\n",
       "      <td>link</td>\n",
       "    </tr>\n",
       "    <tr>\n",
       "      <th>3</th>\n",
       "      <td>3</td>\n",
       "      <td>1013</td>\n",
       "      <td>11/1/2020</td>\n",
       "      <td>213914</td>\n",
       "      <td>how do i get the amount of time i spent on eac...</td>\n",
       "      <td>https://www.google.com/search?rlz=1C1CHBD_enKE...</td>\n",
       "      <td>2</td>\n",
       "      <td>0</td>\n",
       "      <td>link</td>\n",
       "    </tr>\n",
       "    <tr>\n",
       "      <th>4</th>\n",
       "      <td>4</td>\n",
       "      <td>1013</td>\n",
       "      <td>11/1/2020</td>\n",
       "      <td>213914</td>\n",
       "      <td>how do i get the amount of time i spent on eac...</td>\n",
       "      <td>https://www.google.com/search?rlz=1C1CHBD_enKE...</td>\n",
       "      <td>2</td>\n",
       "      <td>0</td>\n",
       "      <td>form_submit</td>\n",
       "    </tr>\n",
       "    <tr>\n",
       "      <th>...</th>\n",
       "      <td>...</td>\n",
       "      <td>...</td>\n",
       "      <td>...</td>\n",
       "      <td>...</td>\n",
       "      <td>...</td>\n",
       "      <td>...</td>\n",
       "      <td>...</td>\n",
       "      <td>...</td>\n",
       "      <td>...</td>\n",
       "    </tr>\n",
       "    <tr>\n",
       "      <th>505</th>\n",
       "      <td>505</td>\n",
       "      <td>621</td>\n",
       "      <td>10/31/2020</td>\n",
       "      <td>215730</td>\n",
       "      <td>sonic pi - Google Search</td>\n",
       "      <td>https://www.google.com/search?rlz=1C1CHBD_enKE...</td>\n",
       "      <td>2</td>\n",
       "      <td>0</td>\n",
       "      <td>form_submit</td>\n",
       "    </tr>\n",
       "    <tr>\n",
       "      <th>506</th>\n",
       "      <td>506</td>\n",
       "      <td>620</td>\n",
       "      <td>10/31/2020</td>\n",
       "      <td>215422</td>\n",
       "      <td>buffer - Google Search</td>\n",
       "      <td>https://www.google.com/search?q=buffer&amp;rlz=1C1...</td>\n",
       "      <td>1</td>\n",
       "      <td>0</td>\n",
       "      <td>generated</td>\n",
       "    </tr>\n",
       "    <tr>\n",
       "      <th>507</th>\n",
       "      <td>507</td>\n",
       "      <td>619</td>\n",
       "      <td>10/31/2020</td>\n",
       "      <td>214842</td>\n",
       "      <td>How to Fix VM VirtualBox Error- VT x is disabl...</td>\n",
       "      <td>https://www.youtube.com/watch?v=18fU8FHgG80</td>\n",
       "      <td>1</td>\n",
       "      <td>0</td>\n",
       "      <td>link</td>\n",
       "    </tr>\n",
       "    <tr>\n",
       "      <th>508</th>\n",
       "      <td>508</td>\n",
       "      <td>617</td>\n",
       "      <td>10/31/2020</td>\n",
       "      <td>214836</td>\n",
       "      <td>Failed to open a session for the virtual machi...</td>\n",
       "      <td>https://www.google.com/search?q=Failed+to+open...</td>\n",
       "      <td>2</td>\n",
       "      <td>0</td>\n",
       "      <td>generated</td>\n",
       "    </tr>\n",
       "    <tr>\n",
       "      <th>509</th>\n",
       "      <td>509</td>\n",
       "      <td>618</td>\n",
       "      <td>10/31/2020</td>\n",
       "      <td>214328</td>\n",
       "      <td>(87) VirtualBox Error Failed to Open a Session...</td>\n",
       "      <td>https://www.youtube.com/watch?v=gE_dlYMZoyk</td>\n",
       "      <td>1</td>\n",
       "      <td>0</td>\n",
       "      <td>link</td>\n",
       "    </tr>\n",
       "  </tbody>\n",
       "</table>\n",
       "<p>510 rows × 9 columns</p>\n",
       "</div>"
      ],
      "text/plain": [
       "     order    id        date    time  \\\n",
       "0        0   732   11/1/2020  214218   \n",
       "1        1   752   11/1/2020  214218   \n",
       "2        2  1014   11/1/2020  213917   \n",
       "3        3  1013   11/1/2020  213914   \n",
       "4        4  1013   11/1/2020  213914   \n",
       "..     ...   ...         ...     ...   \n",
       "505    505   621  10/31/2020  215730   \n",
       "506    506   620  10/31/2020  215422   \n",
       "507    507   619  10/31/2020  214842   \n",
       "508    508   617  10/31/2020  214836   \n",
       "509    509   618  10/31/2020  214328   \n",
       "\n",
       "                                                 title  \\\n",
       "0                                Pandas basic | Kaggle   \n",
       "1                                 Line Charts | Kaggle   \n",
       "2    Is there a way to track the amount of time I s...   \n",
       "3    how do i get the amount of time i spent on eac...   \n",
       "4    how do i get the amount of time i spent on eac...   \n",
       "..                                                 ...   \n",
       "505                           sonic pi - Google Search   \n",
       "506                             buffer - Google Search   \n",
       "507  How to Fix VM VirtualBox Error- VT x is disabl...   \n",
       "508  Failed to open a session for the virtual machi...   \n",
       "509  (87) VirtualBox Error Failed to Open a Session...   \n",
       "\n",
       "                                                   url  visitCount  \\\n",
       "0        https://www.kaggle.com/fingofing/pandas-basic           3   \n",
       "1    https://www.kaggle.com/fingofing/line-charts/edit           2   \n",
       "2    https://www.quora.com/Is-there-a-way-to-track-...           1   \n",
       "3    https://www.google.com/search?rlz=1C1CHBD_enKE...           2   \n",
       "4    https://www.google.com/search?rlz=1C1CHBD_enKE...           2   \n",
       "..                                                 ...         ...   \n",
       "505  https://www.google.com/search?rlz=1C1CHBD_enKE...           2   \n",
       "506  https://www.google.com/search?q=buffer&rlz=1C1...           1   \n",
       "507        https://www.youtube.com/watch?v=18fU8FHgG80           1   \n",
       "508  https://www.google.com/search?q=Failed+to+open...           2   \n",
       "509        https://www.youtube.com/watch?v=gE_dlYMZoyk           1   \n",
       "\n",
       "     typedCount   transition  \n",
       "0             0         link  \n",
       "1             0         link  \n",
       "2             0         link  \n",
       "3             0         link  \n",
       "4             0  form_submit  \n",
       "..          ...          ...  \n",
       "505           0  form_submit  \n",
       "506           0    generated  \n",
       "507           0         link  \n",
       "508           0    generated  \n",
       "509           0         link  \n",
       "\n",
       "[510 rows x 9 columns]"
      ]
     },
     "execution_count": 11,
     "metadata": {},
     "output_type": "execute_result"
    }
   ],
   "source": [
    "web_data"
   ]
  },
  {
   "cell_type": "code",
   "execution_count": 6,
   "metadata": {},
   "outputs": [
    {
     "data": {
      "text/plain": [
       "<matplotlib.axes._subplots.AxesSubplot at 0x219b8e5ea60>"
      ]
     },
     "execution_count": 6,
     "metadata": {},
     "output_type": "execute_result"
    },
    {
     "data": {
      "image/png": "[encoded data removed]",
      "text/plain": [
       "<Figure size 432x288 with 2 Axes>"
      ]
     },
     "metadata": {
      "needs_background": "light"
     },
     "output_type": "display_data"
    }
   ],
   "source": [
    "cor = web_data.corr()\n",
    "sns.heatmap(cor, square = True)"
   ]
  },
  {
   "cell_type": "code",
   "execution_count": 12,
   "metadata": {},
   "outputs": [
    {
     "data": {
      "text/plain": [
       "dtype('O')"
      ]
     },
     "execution_count": 12,
     "metadata": {},
     "output_type": "execute_result"
    }
   ],
   "source": [
    "web_data.time.dtype"
   ]
  },
  {
   "cell_type": "code",
   "execution_count": 14,
   "metadata": {},
   "outputs": [
    {
     "data": {
      "text/plain": [
       "dtype('int32')"
      ]
     },
     "execution_count": 14,
     "metadata": {},
     "output_type": "execute_result"
    }
   ],
   "source": [
    "web_data['time'] = web_data['time'].astype(int)\n",
    "web_data.time.dtype"
   ]
  },
  {
   "cell_type": "code",
   "execution_count": 15,
   "metadata": {},
   "outputs": [
    {
     "data": {
      "text/plain": [
       "count    510.000000\n",
       "mean       0.005882\n",
       "std        0.076546\n",
       "min        0.000000\n",
       "25%        0.000000\n",
       "50%        0.000000\n",
       "75%        0.000000\n",
       "max        1.000000\n",
       "Name: typedCount, dtype: float64"
      ]
     },
     "execution_count": 15,
     "metadata": {},
     "output_type": "execute_result"
    }
   ],
   "source": [
    "web_data.typedCount.describe()"
   ]
  },
  {
   "cell_type": "code",
   "execution_count": 19,
   "metadata": {},
   "outputs": [
    {
     "data": {
      "text/plain": [
       "<Figure size 2520x720 with 0 Axes>"
      ]
     },
     "metadata": {},
     "output_type": "display_data"
    },
    {
     "data": {
      "image/png": "[encoded data removed]",
      "text/plain": [
       "<Figure size 360x360 with 1 Axes>"
      ]
     },
     "metadata": {
      "needs_background": "light"
     },
     "output_type": "display_data"
    }
   ],
   "source": [
    "plt.figure(figsize=(35, 10));\n",
    "sns.relplot(data = web_data,kind= 'scatter', x = 'time', y= 'visitCount');"
   ]
  },
  {
   "cell_type": "code",
   "execution_count": null,
   "metadata": {},
   "outputs": [],
   "source": [
    "web_data.visitCount.describe()"
   ]
  },
  {
   "cell_type": "code",
   "execution_count": null,
   "metadata": {},
   "outputs": [],
   "source": [
    "web_data.shape"
   ]
  },
  {
   "cell_type": "code",
   "execution_count": null,
   "metadata": {},
   "outputs": [],
   "source": [
    "from matplotlib.pyplot import figure\n",
    "figure(num=None, figsize=(8, 6), dpi=80, facecolor='w', edgecolor='k')\n",
    "plt.figure(figsize=(35, 10));\n",
    "sns.relplot(data = web_data.head(50),kind= 'scatter', x = 'time', y= 'visitCount');"
   ]
  },
  {
   "cell_type": "code",
   "execution_count": null,
   "metadata": {},
   "outputs": [],
   "source": []
  }
 ],
 "metadata": {
  "kernelspec": {
   "display_name": "Python 3",
   "language": "python",
   "name": "python3"
  },
  "language_info": {
   "codemirror_mode": {
    "name": "ipython",
    "version": 3
   },
   "file_extension": ".py",
   "mimetype": "text/x-python",
   "name": "python",
   "nbconvert_exporter": "python",
   "pygments_lexer": "ipython3",
   "version": "3.8.3"
  }
 },
 "nbformat": 4,
 "nbformat_minor": 4
}
